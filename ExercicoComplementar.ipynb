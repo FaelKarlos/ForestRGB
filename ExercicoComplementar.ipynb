{
 "cells": [
  {
   "cell_type": "code",
   "execution_count": 1,
   "metadata": {},
   "outputs": [
    {
     "name": "stderr",
     "output_type": "stream",
     "text": [
      "Using TensorFlow backend.\n"
     ]
    }
   ],
   "source": [
    "#Aqui eu importo as bibliotecas que utilizarei durante a predição\n",
    "import numpy as np\n",
    "import pandas as pd\n",
    "import math\n",
    "from keras.models import Sequential\n",
    "from keras.layers import Dense"
   ]
  },
  {
   "cell_type": "code",
   "execution_count": 2,
   "metadata": {},
   "outputs": [],
   "source": [
    "#Aqui estou importando as bases de dados de treinamento e teste\n",
    "data=pd.read_csv(\"forest_data.csv\")\n",
    "datatest = pd.read_csv(\"forest_data_teste.csv\")"
   ]
  },
  {
   "cell_type": "code",
   "execution_count": null,
   "metadata": {
    "scrolled": true
   },
   "outputs": [],
   "source": [
    "#Base dados de treinameto \n",
    "data.head()"
   ]
  },
  {
   "cell_type": "code",
   "execution_count": null,
   "metadata": {},
   "outputs": [],
   "source": [
    "#Base de dados de teste\n",
    "datatest.head()"
   ]
  },
  {
   "cell_type": "code",
   "execution_count": 5,
   "metadata": {},
   "outputs": [],
   "source": [
    "#Tratando as bases de dados com dummies, tranformando a coluna \"Label\" em zeros e uns.\n",
    "x_train = data.drop('Label', 1)\n",
    "y_train = pd.get_dummies(data['Label'])\n",
    "\n",
    "x_test = datatest.drop('Label', 1)\n",
    "y_test = pd.get_dummies(datatest['Label'])"
   ]
  },
  {
   "cell_type": "code",
   "execution_count": null,
   "metadata": {
    "scrolled": true
   },
   "outputs": [],
   "source": [
    "#Utilizando o método sequencial para treinar o  modelo.\n",
    "model = Sequential()\n",
    "model.add(Dense(20, input_dim=5, activation='relu'))\n",
    "model.add(Dense(16, activation='relu'))\n",
    "model.add(Dense(3, activation='softmax'))\n",
    "model.compile(loss='categorical_crossentropy', optimizer='adam', metrics=['accuracy'])\n",
    "\n",
    "#separei 30% da minha base para treinamento e apliquei 200 vezes o treinamento\n",
    "model.fit(x_train, y_train, epochs=200, batch_size=30)"
   ]
  },
  {
   "cell_type": "code",
   "execution_count": null,
   "metadata": {},
   "outputs": [],
   "source": [
    "#Tirando a acuracia\n",
    "scores = model.evaluate(x_test, y_test)\n",
    "print(\"\\n%s: %.2f%%\" % (model.metrics_names[1], scores[1]*100))"
   ]
  },
  {
   "cell_type": "code",
   "execution_count": 8,
   "metadata": {},
   "outputs": [],
   "source": [
    "#Resultados\n",
    "\n",
    "#Utilizei o modelo sequencia para treinar a base de dados, consegui uma acuracia de 93.44 % utilizando a configuração:\n",
    "#  model.compile(loss='binary_crossentropy', optimizer='adam', metrics=['accuracy'])\n",
    "\n",
    "#Urilizando a configuração:\n",
    "#  model.compile(loss='categorical_crossentropy', optimizer='adam', metrics=['accuracy'])\n",
    "\n",
    "#A acuracia abaixou para 44.07%, a única mudança que efetuei foi na entrada loss que mudei o padrão."
   ]
  }
 ],
 "metadata": {
  "kernelspec": {
   "display_name": "Python 3",
   "language": "python",
   "name": "python3"
  },
  "language_info": {
   "codemirror_mode": {
    "name": "ipython",
    "version": 3
   },
   "file_extension": ".py",
   "mimetype": "text/x-python",
   "name": "python",
   "nbconvert_exporter": "python",
   "pygments_lexer": "ipython3",
   "version": "3.7.1"
  }
 },
 "nbformat": 4,
 "nbformat_minor": 2
}
